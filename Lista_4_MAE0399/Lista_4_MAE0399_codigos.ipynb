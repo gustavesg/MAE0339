{
  "nbformat": 4,
  "nbformat_minor": 0,
  "metadata": {
    "colab": {
      "name": "Lista_4_MAE0399.ipynb",
      "provenance": [],
      "collapsed_sections": []
    },
    "kernelspec": {
      "name": "python3",
      "display_name": "Python 3"
    },
    "language_info": {
      "name": "python"
    }
  },
  "cells": [
    {
      "cell_type": "code",
      "execution_count": 45,
      "metadata": {
        "id": "4i5W9jgBPhtu"
      },
      "outputs": [],
      "source": [
        "#importa bibliotecas necessárias\n",
        "from sklearn.metrics.pairwise import paired_distances\n",
        "import numpy as np\n",
        "import math\n",
        "import random\n",
        "import matplotlib.pyplot as plt\n",
        "import pandas as pd"
      ]
    },
    {
      "cell_type": "markdown",
      "source": [
        "#Questão 1a\n"
      ],
      "metadata": {
        "id": "bviURbPPR8bz"
      }
    },
    {
      "cell_type": "code",
      "source": [
        "#amostra de tamanho 10000 com distribuição exponencial de média 1\n",
        "expo_10000 = np.random.exponential( scale = 1,size = 10000)"
      ],
      "metadata": {
        "id": "Np3DPhinRMi4"
      },
      "execution_count": 46,
      "outputs": []
    },
    {
      "cell_type": "markdown",
      "source": [
        "#Questão 1b"
      ],
      "metadata": {
        "id": "Wk6ZHk-ZWlrg"
      }
    },
    {
      "cell_type": "code",
      "source": [
        "expo_10000_inversa = []\n",
        "#amostra de tamanho 10000 uniforme\n",
        "amostra_uniforme = np.random.rand(1,10000)\n",
        "for i in range(10000):\n",
        "  #método da transforma inversa\n",
        "  X = -math.log(amostra_uniforme[0][i])\n",
        "  expo_10000_inversa.append(X)"
      ],
      "metadata": {
        "id": "L4cOcSSHWd8q"
      },
      "execution_count": 47,
      "outputs": []
    },
    {
      "cell_type": "markdown",
      "source": [
        "#Questão 1c"
      ],
      "metadata": {
        "id": "7kqesKxyxSSQ"
      }
    },
    {
      "cell_type": "code",
      "source": [
        "#histograma gerador direto\n",
        "plt.hist(expo_10000, bins = 50)\n",
        "plt.plot()\n",
        "\n"
      ],
      "metadata": {
        "colab": {
          "base_uri": "https://localhost:8080/",
          "height": 284
        },
        "id": "UGaY-ul1xUxU",
        "outputId": "6ce9fa8d-dd1b-4084-a01c-79757131ea4b"
      },
      "execution_count": 48,
      "outputs": [
        {
          "output_type": "execute_result",
          "data": {
            "text/plain": [
              "[]"
            ]
          },
          "metadata": {},
          "execution_count": 48
        },
        {
          "output_type": "display_data",
          "data": {
            "text/plain": [
              "<Figure size 432x288 with 1 Axes>"
            ],
            "image/png": "[encoded data removed]"
          },
          "metadata": {
            "needs_background": "light"
          }
        }
      ]
    },
    {
      "cell_type": "code",
      "source": [
        "#histograma com a inversa\n",
        "plt.hist(expo_10000_inversa, bins = 50)\n",
        "plt.plot()"
      ],
      "metadata": {
        "colab": {
          "base_uri": "https://localhost:8080/",
          "height": 282
        },
        "id": "qN-CZ-5UxhFQ",
        "outputId": "c684e2ba-9515-40e6-9410-7d482cbb7e77"
      },
      "execution_count": 49,
      "outputs": [
        {
          "output_type": "execute_result",
          "data": {
            "text/plain": [
              "[]"
            ]
          },
          "metadata": {},
          "execution_count": 49
        },
        {
          "output_type": "display_data",
          "data": {
            "text/plain": [
              "<Figure size 432x288 with 1 Axes>"
            ],
            "image/png": "[encoded data removed]"
          },
          "metadata": {
            "needs_background": "light"
          }
        }
      ]
    },
    {
      "cell_type": "markdown",
      "source": [
        "#Questão 2"
      ],
      "metadata": {
        "id": "dA8znpQhB4Si"
      }
    },
    {
      "cell_type": "code",
      "source": [
        "#importa base de dados\n",
        "data = pd.read_csv('/content/drive/MyDrive/MAE0339/CitiByke/202102-citibike-tripdata.csv')\n",
        "#data.head()"
      ],
      "metadata": {
        "colab": {
          "base_uri": "https://localhost:8080/"
        },
        "id": "oQGUfCuZB6KH",
        "outputId": "29d3e0f5-b999-4687-9afa-a5e4c53137ac"
      },
      "execution_count": 50,
      "outputs": [
        {
          "output_type": "stream",
          "name": "stderr",
          "text": [
            "/usr/local/lib/python3.7/dist-packages/IPython/core/interactiveshell.py:2882: DtypeWarning: Columns (5,7) have mixed types.Specify dtype option on import or set low_memory=False.\n",
            "  exec(code_obj, self.user_global_ns, self.user_ns)\n"
          ]
        }
      ]
    },
    {
      "cell_type": "code",
      "source": [
        "#transforam as string com datas em datetime\n",
        "data['started_at'] = pd.to_datetime(data['started_at'])\n",
        "data['ended_at'] = pd.to_datetime(data['ended_at'])\n",
        "#tempo de uma corrida em segundos\n",
        "data['run_time'] = (data['ended_at']- data['started_at']).dt.total_seconds()"
      ],
      "metadata": {
        "id": "Izmy--QBECws"
      },
      "execution_count": 51,
      "outputs": []
    },
    {
      "cell_type": "markdown",
      "source": [
        "#Questão 2a"
      ],
      "metadata": {
        "id": "2RfexKGlYn6p"
      }
    },
    {
      "cell_type": "code",
      "source": [
        "tempo_minimo = (0.35/16)*60*60\n",
        "#exclui linhas com tempo abaixo do minimo\n",
        "data.drop(data.loc[(data['run_time'] <= tempo_minimo)].index, inplace=True)"
      ],
      "metadata": {
        "id": "skrYL48Rqp6J"
      },
      "execution_count": 52,
      "outputs": []
    },
    {
      "cell_type": "markdown",
      "source": [
        "#Questão 2b"
      ],
      "metadata": {
        "id": "qLyzRUfpY6uc"
      }
    },
    {
      "cell_type": "code",
      "source": [
        "#exclui linhas com tempo negativo e os tempos maiores que 60 min\n",
        "data.drop(data.loc[(data['run_time'] < 0) & (data['run_time']>60*60)].index, inplace=True)\n"
      ],
      "metadata": {
        "id": "s7ct500RwedD"
      },
      "execution_count": 53,
      "outputs": []
    },
    {
      "cell_type": "markdown",
      "source": [
        "#Questão 2c"
      ],
      "metadata": {
        "id": "9X51ooPXZF_U"
      }
    },
    {
      "cell_type": "code",
      "source": [
        "#exclui os valores nulos\n",
        "data.dropna(inplace = True)\n",
        "#transforma as latitudes em radianos\n",
        "data['start_lat'] = np.radians(data['start_lat'])\n",
        "data['end_lat'] = np.radians(data['end_lat'])\n",
        "#transforma as longitudes em radianos\n",
        "data['start_lng'] = np.radians(data['start_lng'])\n",
        "data['end_lng'] = np.radians(data['end_lng'])\n",
        "#calcula a distancia entre os pontos pela fórmula de haversine\n",
        "data['dif_media_lat'] =  (data['end_lat'] - data['start_lat'])/2\n",
        "data['dif_media_lng'] = (data['end_lng'] - data['start_lng'])/2\n",
        "data['run_distance'] = 2*6371*np.arcsin(np.sqrt((np.sin(data['dif_media_lat']))**2 + np.cos(data['start_lat'])*np.cos(data['end_lat'])*(np.sin(data['dif_media_lng']))**2))\n",
        "#plota o histograma da distancia\n",
        "plt.hist(data['run_distance'],bins=200)\n",
        "#titulo dos eixos\n",
        "plt.xlabel('Distância')\n",
        "plt.ylabel('Aparições')\n",
        "plt.plot()\n"
      ],
      "metadata": {
        "id": "n5AlBfFB2-O7",
        "colab": {
          "base_uri": "https://localhost:8080/",
          "height": 296
        },
        "outputId": "8e6e3eb9-d29b-4d13-bf36-071d84b4e456"
      },
      "execution_count": 54,
      "outputs": [
        {
          "output_type": "execute_result",
          "data": {
            "text/plain": [
              "[]"
            ]
          },
          "metadata": {},
          "execution_count": 54
        },
        {
          "output_type": "display_data",
          "data": {
            "text/plain": [
              "<Figure size 432x288 with 1 Axes>"
            ],
            "image/png": "[encoded data removed]"
          },
          "metadata": {
            "needs_background": "light"
          }
        }
      ]
    },
    {
      "cell_type": "markdown",
      "source": [
        "#Questão 2d"
      ],
      "metadata": {
        "id": "F7tHROe8ZoVV"
      }
    },
    {
      "cell_type": "code",
      "source": [
        "#estações de chegada e partida iguais\n",
        "p = len(data[data['end_station_id'] == data['start_station_id']])/len(data)\n",
        "print('p = %s'%p)"
      ],
      "metadata": {
        "id": "tnYOixQnQtHi",
        "colab": {
          "base_uri": "https://localhost:8080/"
        },
        "outputId": "5f4215f5-afc9-407c-ab6d-31ce05ec9ecc"
      },
      "execution_count": 55,
      "outputs": [
        {
          "output_type": "stream",
          "name": "stdout",
          "text": [
            "p = 0.014071759303366934\n"
          ]
        }
      ]
    },
    {
      "cell_type": "markdown",
      "source": [
        "#Questão 2e"
      ],
      "metadata": {
        "id": "3jxCsZx4pQ7Z"
      }
    },
    {
      "cell_type": "code",
      "source": [
        "media = data[data['end_station_id'] != data['start_station_id']]['run_distance'].mean()\n",
        "print('Média da distância percorrida (km) tirando os nulos: %s'%media)"
      ],
      "metadata": {
        "id": "FhW1iQD3TLpb",
        "colab": {
          "base_uri": "https://localhost:8080/"
        },
        "outputId": "2cfcb2b9-af5f-4dfa-a459-05f5e42ab6ed"
      },
      "execution_count": 56,
      "outputs": [
        {
          "output_type": "stream",
          "name": "stdout",
          "text": [
            "Média da distância percorrida (km) tirando os nulos: 1.8770679170067623\n"
          ]
        }
      ]
    },
    {
      "cell_type": "markdown",
      "source": [
        "#Questão 2f"
      ],
      "metadata": {
        "id": "zOS1bDT_tTmA"
      }
    },
    {
      "cell_type": "code",
      "source": [
        "#va aleatoria\n",
        "X = []\n",
        "#amostra de tamanho 10000 uniforme\n",
        "amostra_uniforme = np.random.rand(1,10000)\n",
        "for i in range(10000):\n",
        "  if amostra_uniforme[0][i] <= p:\n",
        "    X.append(0)\n",
        "  else:\n",
        "    X.append(random.expovariate(1/media))\n"
      ],
      "metadata": {
        "id": "iZvG5x7gtVOD"
      },
      "execution_count": 57,
      "outputs": []
    },
    {
      "cell_type": "code",
      "source": [
        "#histograma da simulaação\n",
        "plt.hist(X,bins=200)\n",
        "plt.xlabel('X')\n",
        "plt.ylabel('f(x)')\n",
        "plt.plot()"
      ],
      "metadata": {
        "colab": {
          "base_uri": "https://localhost:8080/",
          "height": 296
        },
        "id": "5By3fDuly2Jq",
        "outputId": "c02d0c93-bb05-4d4a-fa1c-6e93878ac6eb"
      },
      "execution_count": 58,
      "outputs": [
        {
          "output_type": "execute_result",
          "data": {
            "text/plain": [
              "[]"
            ]
          },
          "metadata": {},
          "execution_count": 58
        },
        {
          "output_type": "display_data",
          "data": {
            "text/plain": [
              "<Figure size 432x288 with 1 Axes>"
            ],
            "image/png": "[encoded data removed]"
          },
          "metadata": {
            "needs_background": "light"
          }
        }
      ]
    },
    {
      "cell_type": "code",
      "source": [
        "#histograma original\n",
        "#plota o histograma da distancia\n",
        "plt.hist(data['run_distance'],bins=200)\n",
        "#titulo dos eixos\n",
        "plt.xlabel('Distância')\n",
        "plt.ylabel('Aparições')\n",
        "plt.plot()"
      ],
      "metadata": {
        "id": "ud-04q1GuiSO",
        "colab": {
          "base_uri": "https://localhost:8080/",
          "height": 296
        },
        "outputId": "f9e9d519-c7c2-4e4b-ddde-c46441179830"
      },
      "execution_count": 59,
      "outputs": [
        {
          "output_type": "execute_result",
          "data": {
            "text/plain": [
              "[]"
            ]
          },
          "metadata": {},
          "execution_count": 59
        },
        {
          "output_type": "display_data",
          "data": {
            "text/plain": [
              "<Figure size 432x288 with 1 Axes>"
            ],
            "image/png": "[encoded data removed]"
          },
          "metadata": {
            "needs_background": "light"
          }
        }
      ]
    },
    {
      "cell_type": "code",
      "source": [
        "#o modelo exponencial é util no geral, mas para pontos adiante do zero e menores que 0.02 a aproximação não é legal, então talvez seja util utilizar \n",
        "#uma distribuição qui-quadrado, por exemplo."
      ],
      "metadata": {
        "id": "vaE8Cc4-3w7Z"
      },
      "execution_count": 60,
      "outputs": []
    }
  ]
}