{
  "nbformat": 4,
  "nbformat_minor": 0,
  "metadata": {
    "colab": {
      "name": "Lista2_MAE0399.ipynb",
      "provenance": []
    },
    "kernelspec": {
      "name": "python3",
      "display_name": "Python 3"
    },
    "language_info": {
      "name": "python"
    }
  },
  "cells": [
    {
      "cell_type": "code",
      "execution_count": null,
      "metadata": {
        "id": "m-F_gIsPPZaF"
      },
      "outputs": [],
      "source": [
        "import pandas as pd\n",
        "import matplotlib.pyplot as plt\n",
        "import numpy as np"
      ]
    },
    {
      "cell_type": "code",
      "source": [
        "data = pd.read_csv('/content/drive/MyDrive/MAE0339/CitiByke/202102-citibike-tripdata.csv')"
      ],
      "metadata": {
        "colab": {
          "base_uri": "https://localhost:8080/"
        },
        "id": "-BRVf_lNRJqI",
        "outputId": "665c39f1-546e-406b-f8b2-1eab09f3251e"
      },
      "execution_count": null,
      "outputs": [
        {
          "output_type": "stream",
          "name": "stderr",
          "text": [
            "/usr/local/lib/python3.7/dist-packages/IPython/core/interactiveshell.py:2882: DtypeWarning: Columns (5,7) have mixed types.Specify dtype option on import or set low_memory=False.\n",
            "  exec(code_obj, self.user_global_ns, self.user_ns)\n"
          ]
        }
      ]
    },
    {
      "cell_type": "code",
      "source": [
        "#transforma em datetime\n",
        "data['started_at'] = pd.to_datetime(data['started_at'])\n",
        "data['ended_at'] = pd.to_datetime(data['ended_at'])\n",
        "#cria coluna duração da viagem\n",
        "data['trip_duration'] = (data['ended_at'] - data['started_at']).dt.total_seconds().div(60)"
      ],
      "metadata": {
        "id": "28OmZ3miRsZh"
      },
      "execution_count": null,
      "outputs": []
    },
    {
      "cell_type": "code",
      "source": [
        "#resumo da variável trip_duration\n",
        "data['trip_duration'].describe()"
      ],
      "metadata": {
        "colab": {
          "base_uri": "https://localhost:8080/"
        },
        "id": "iS8du5FhVb86",
        "outputId": "7f684790-3dd0-4a91-a8fa-63f6d42531f7"
      },
      "execution_count": null,
      "outputs": [
        {
          "output_type": "execute_result",
          "data": {
            "text/plain": [
              "count    649983.000000\n",
              "mean         16.713549\n",
              "std         340.841273\n",
              "min      -10008.900000\n",
              "25%           5.516667\n",
              "50%           9.666667\n",
              "75%          17.066667\n",
              "max      165074.550000\n",
              "Name: trip_duration, dtype: float64"
            ]
          },
          "metadata": {},
          "execution_count": 81
        }
      ]
    },
    {
      "cell_type": "code",
      "source": [
        "#retiramos da base os trip duration negativos\n",
        "data =  data[data['trip_duration']>0]"
      ],
      "metadata": {
        "id": "9IsMQFyaWCA2"
      },
      "execution_count": null,
      "outputs": []
    },
    {
      "cell_type": "code",
      "source": [
        "#quantil 99%\n",
        "data['trip_duration'].quantile(0.99)"
      ],
      "metadata": {
        "colab": {
          "base_uri": "https://localhost:8080/"
        },
        "id": "NSnEGrMGZ9RF",
        "outputId": "bfafdebe-d799-45ca-b1a0-a1e5ae8bb6a2"
      },
      "execution_count": null,
      "outputs": [
        {
          "output_type": "execute_result",
          "data": {
            "text/plain": [
              "60.4"
            ]
          },
          "metadata": {},
          "execution_count": 83
        }
      ]
    },
    {
      "cell_type": "code",
      "source": [
        "#retiramos da base tempos maiores que 60 min\n",
        "data = data[data['trip_duration'] <= 60]"
      ],
      "metadata": {
        "id": "PLscIX2OaH_4"
      },
      "execution_count": null,
      "outputs": []
    },
    {
      "cell_type": "code",
      "source": [
        "#histograma do tempo do percurso\n",
        "plt.hist(data['trip_duration'], bins =np.arange(0,65,5) )\n",
        "#titulo\n",
        "plt.title('Histograma do tempo de percurso')\n",
        "#titulo dos eixos\n",
        "plt.xlabel('Frequência')\n",
        "plt.ylabel('Tempo de percurso (minutos)')\n",
        "#altera marcadores do eixo x\n",
        "plt.xticks(np.arange(0,65,5))\n",
        "#plota o grafico\n",
        "plt.plot()"
      ],
      "metadata": {
        "colab": {
          "base_uri": "https://localhost:8080/",
          "height": 313
        },
        "id": "R5QMHancMbrf",
        "outputId": "0ad947fb-d524-4b8c-82ce-194c9d2c404a"
      },
      "execution_count": null,
      "outputs": [
        {
          "output_type": "execute_result",
          "data": {
            "text/plain": [
              "[]"
            ]
          },
          "metadata": {},
          "execution_count": 85
        },
        {
          "output_type": "display_data",
          "data": {
            "text/plain": [
              "<Figure size 432x288 with 1 Axes>"
            ],
            "image/png": "[encoded data removed]"
          },
          "metadata": {
            "needs_background": "light"
          }
        }
      ]
    },
    {
      "cell_type": "code",
      "source": [
        "#histograma pro horário de começo da corrida\n",
        "plt.hist(data['ended_at'].dt.hour, bins = np.arange(0,24,2))\n",
        "#titulo\n",
        "plt.title(\"Histograma para o horário de começo\")\n",
        "#titulo dos eixos\n",
        "plt.xlabel(\"Frequencia\")\n",
        "plt.ylabel(\"Horário de começo (horas do dia)\")\n",
        "#maradores do eixo x \n",
        "plt.xticks(np.arange(0,24,2))\n",
        "#plota o gráfico\n",
        "plt.plot()"
      ],
      "metadata": {
        "colab": {
          "base_uri": "https://localhost:8080/",
          "height": 312
        },
        "id": "fp02NrQlMnTZ",
        "outputId": "2d5fd7b5-e11b-4e3a-c910-3dc69038b7be"
      },
      "execution_count": null,
      "outputs": [
        {
          "output_type": "execute_result",
          "data": {
            "text/plain": [
              "[]"
            ]
          },
          "metadata": {},
          "execution_count": 86
        },
        {
          "output_type": "display_data",
          "data": {
            "text/plain": [
              "<Figure size 432x288 with 1 Axes>"
            ],
            "image/png": "[encoded data removed]"
          },
          "metadata": {
            "needs_background": "light"
          }
        }
      ]
    },
    {
      "cell_type": "code",
      "source": [
        "#variavel dia da semana de partida\n",
        "data['Dia da semana (numero)'] = data['started_at'].dt.weekday\n",
        "data['Dia da semana (nome)'] = data['started_at'].dt.day_name()\n",
        "#ordena as linhas conforme o dia da semana\n",
        "data.sort_values(by = 'Dia da semana (numero)', inplace = True)"
      ],
      "metadata": {
        "id": "DBNu0nSMXcc3"
      },
      "execution_count": null,
      "outputs": []
    },
    {
      "cell_type": "code",
      "source": [
        "plt.hist(data['Dia da semana (nome)'],bins = np.arange(0,8,1))\n",
        "plt.title('Histograma para o dia de começo')\n",
        "plt.xlabel('Dia de começo')\n",
        "plt.ylabel('Frequência')\n",
        "plt.xticks(labels  =  ['Segunda','Terça','Quarta','Quinta','Sexta','Sábado','Domingo'],ticks = np.arange(0.5,8,1), fontsize = 7.5)\n",
        "plt.plot()"
      ],
      "metadata": {
        "colab": {
          "base_uri": "https://localhost:8080/",
          "height": 311
        },
        "id": "DsxlxLGbqFSD",
        "outputId": "4eddfb79-30c8-4cb4-9052-c34c7a342c58"
      },
      "execution_count": null,
      "outputs": [
        {
          "output_type": "execute_result",
          "data": {
            "text/plain": [
              "[]"
            ]
          },
          "metadata": {},
          "execution_count": 90
        },
        {
          "output_type": "display_data",
          "data": {
            "text/plain": [
              "<Figure size 432x288 with 1 Axes>"
            ],
            "image/png": "[encoded data removed]"
          },
          "metadata": {
            "needs_background": "light"
          }
        }
      ]
    },
    {
      "cell_type": "code",
      "source": [
        "data.head(10)\n"
      ],
      "metadata": {
        "colab": {
          "base_uri": "https://localhost:8080/",
          "height": 809
        },
        "id": "EvuFp5fSRry4",
        "outputId": "6a82ccc7-6390-4d42-f173-c8acd0712f4b"
      },
      "execution_count": null,
      "outputs": [
        {
          "output_type": "execute_result",
          "data": {
            "text/plain": [
              "                 ride_id rideable_type          started_at  \\\n",
              "649982  08A07BB378B0FE2F   docked_bike 2021-02-08 13:31:57   \n",
              "301075  1427FDC7F4EF890B   docked_bike 2021-02-15 15:13:34   \n",
              "101270  DC98BA7AC747884D   docked_bike 2021-02-08 12:07:44   \n",
              "458285  F21A3DFB0A0D2870   docked_bike 2021-02-15 18:58:01   \n",
              "101257  7592499A60EC709F   docked_bike 2021-02-15 21:27:52   \n",
              "101256  B38BA5CF8B8BEC28   docked_bike 2021-02-22 12:56:54   \n",
              "101253  446468222B9EB0CD   docked_bike 2021-02-22 08:25:15   \n",
              "301084  8FC64F162FF515EE   docked_bike 2021-02-22 16:33:16   \n",
              "101250  31EBB19058175B84   docked_bike 2021-02-08 11:22:58   \n",
              "458290  7ED2E1BC07DBC013   docked_bike 2021-02-08 09:23:16   \n",
              "\n",
              "                  ended_at             start_station_name start_station_id  \\\n",
              "649982 2021-02-08 13:50:45            Berkeley Pl & 7 Ave          4051.01   \n",
              "301075 2021-02-15 15:45:46                E 74 St & 1 Ave          6953.08   \n",
              "101270 2021-02-08 12:10:27                W 45 St & 8 Ave          6676.02   \n",
              "458285 2021-02-15 19:09:45                5 Ave & E 63 St          6904.06   \n",
              "101257 2021-02-15 21:45:36  Christopher St & Greenwich St          5847.01   \n",
              "101256 2021-02-22 13:06:30  Christopher St & Greenwich St          5847.01   \n",
              "101253 2021-02-22 08:27:32  Christopher St & Greenwich St          5847.01   \n",
              "301084 2021-02-22 16:51:46                E 44 St & 2 Ave          6422.09   \n",
              "101250 2021-02-08 11:31:50    Mt Morris Park W & W 120 St          7685.14   \n",
              "458290 2021-02-08 09:45:37                E 19 St & 3 Ave          5938.01   \n",
              "\n",
              "                     end_station_name end_station_id  start_lat  start_lng  \\\n",
              "649982        Clinton St & Tillary St        4748.07  40.675146 -73.975232   \n",
              "301075        E 39 St & Lexington Ave        6389.09  40.768973 -73.954822   \n",
              "101270                W 45 St & 8 Ave        6676.02  40.759291 -73.988597   \n",
              "458285                W 54 St & 9 Ave        6920.03  40.766368 -73.971518   \n",
              "101257  Christopher St & Greenwich St        5847.01  40.732916 -74.007114   \n",
              "101256  Christopher St & Greenwich St        5847.01  40.732915 -74.007113   \n",
              "101253  Christopher St & Greenwich St        5847.01  40.732915 -74.007113   \n",
              "301084           31 Ave & Crescent St        6893.10  40.751183 -73.971387   \n",
              "101250               E 116 St & 2 Ave        7563.06  40.804038 -73.945925   \n",
              "458290                W 54 St & 9 Ave        6920.03  40.736245 -73.984737   \n",
              "\n",
              "          end_lat    end_lng member_casual  trip_duration  \\\n",
              "649982  40.696233 -73.991421        member      18.800000   \n",
              "301075  40.749499 -73.977292        casual      32.200000   \n",
              "101270  40.759291 -73.988597        member       2.716667   \n",
              "458285  40.765849 -73.986905        member      11.733333   \n",
              "101257  40.732916 -74.007114        casual      17.733333   \n",
              "101256  40.732916 -74.007114        member       9.600000   \n",
              "101253  40.732916 -74.007114        member       2.283333   \n",
              "301084  40.765835 -73.926547        member      18.500000   \n",
              "101250  40.796879 -73.937261        member       8.866667   \n",
              "458290  40.765849 -73.986905        member      22.350000   \n",
              "\n",
              "        Dia da semana (numero) Dia da semana (nome)  \n",
              "649982                       0               Monday  \n",
              "301075                       0               Monday  \n",
              "101270                       0               Monday  \n",
              "458285                       0               Monday  \n",
              "101257                       0               Monday  \n",
              "101256                       0               Monday  \n",
              "101253                       0               Monday  \n",
              "301084                       0               Monday  \n",
              "101250                       0               Monday  \n",
              "458290                       0               Monday  "
            ],
            "text/html": [
              "\n",
              "  <div id=\"df-a1bd7de5-010e-4cb9-8a6c-057db5d3617b\">\n",
              "    <div class=\"colab-df-container\">\n",
              "      <div>\n",
              "<style scoped>\n",
              "    .dataframe tbody tr th:only-of-type {\n",
              "        vertical-align: middle;\n",
              "    }\n",
              "\n",
              "    .dataframe tbody tr th {\n",
              "        vertical-align: top;\n",
              "    }\n",
              "\n",
              "    .dataframe thead th {\n",
              "        text-align: right;\n",
              "    }\n",
              "</style>\n",
              "<table border=\"1\" class=\"dataframe\">\n",
              "  <thead>\n",
              "    <tr style=\"text-align: right;\">\n",
              "      <th></th>\n",
              "      <th>ride_id</th>\n",
              "      <th>rideable_type</th>\n",
              "      <th>started_at</th>\n",
              "      <th>ended_at</th>\n",
              "      <th>start_station_name</th>\n",
              "      <th>start_station_id</th>\n",
              "      <th>end_station_name</th>\n",
              "      <th>end_station_id</th>\n",
              "      <th>start_lat</th>\n",
              "      <th>start_lng</th>\n",
              "      <th>end_lat</th>\n",
              "      <th>end_lng</th>\n",
              "      <th>member_casual</th>\n",
              "      <th>trip_duration</th>\n",
              "      <th>Dia da semana (numero)</th>\n",
              "      <th>Dia da semana (nome)</th>\n",
              "    </tr>\n",
              "  </thead>\n",
              "  <tbody>\n",
              "    <tr>\n",
              "      <th>649982</th>\n",
              "      <td>08A07BB378B0FE2F</td>\n",
              "      <td>docked_bike</td>\n",
              "      <td>2021-02-08 13:31:57</td>\n",
              "      <td>2021-02-08 13:50:45</td>\n",
              "      <td>Berkeley Pl &amp; 7 Ave</td>\n",
              "      <td>4051.01</td>\n",
              "      <td>Clinton St &amp; Tillary St</td>\n",
              "      <td>4748.07</td>\n",
              "      <td>40.675146</td>\n",
              "      <td>-73.975232</td>\n",
              "      <td>40.696233</td>\n",
              "      <td>-73.991421</td>\n",
              "      <td>member</td>\n",
              "      <td>18.800000</td>\n",
              "      <td>0</td>\n",
              "      <td>Monday</td>\n",
              "    </tr>\n",
              "    <tr>\n",
              "      <th>301075</th>\n",
              "      <td>1427FDC7F4EF890B</td>\n",
              "      <td>docked_bike</td>\n",
              "      <td>2021-02-15 15:13:34</td>\n",
              "      <td>2021-02-15 15:45:46</td>\n",
              "      <td>E 74 St &amp; 1 Ave</td>\n",
              "      <td>6953.08</td>\n",
              "      <td>E 39 St &amp; Lexington Ave</td>\n",
              "      <td>6389.09</td>\n",
              "      <td>40.768973</td>\n",
              "      <td>-73.954822</td>\n",
              "      <td>40.749499</td>\n",
              "      <td>-73.977292</td>\n",
              "      <td>casual</td>\n",
              "      <td>32.200000</td>\n",
              "      <td>0</td>\n",
              "      <td>Monday</td>\n",
              "    </tr>\n",
              "    <tr>\n",
              "      <th>101270</th>\n",
              "      <td>DC98BA7AC747884D</td>\n",
              "      <td>docked_bike</td>\n",
              "      <td>2021-02-08 12:07:44</td>\n",
              "      <td>2021-02-08 12:10:27</td>\n",
              "      <td>W 45 St &amp; 8 Ave</td>\n",
              "      <td>6676.02</td>\n",
              "      <td>W 45 St &amp; 8 Ave</td>\n",
              "      <td>6676.02</td>\n",
              "      <td>40.759291</td>\n",
              "      <td>-73.988597</td>\n",
              "      <td>40.759291</td>\n",
              "      <td>-73.988597</td>\n",
              "      <td>member</td>\n",
              "      <td>2.716667</td>\n",
              "      <td>0</td>\n",
              "      <td>Monday</td>\n",
              "    </tr>\n",
              "    <tr>\n",
              "      <th>458285</th>\n",
              "      <td>F21A3DFB0A0D2870</td>\n",
              "      <td>docked_bike</td>\n",
              "      <td>2021-02-15 18:58:01</td>\n",
              "      <td>2021-02-15 19:09:45</td>\n",
              "      <td>5 Ave &amp; E 63 St</td>\n",
              "      <td>6904.06</td>\n",
              "      <td>W 54 St &amp; 9 Ave</td>\n",
              "      <td>6920.03</td>\n",
              "      <td>40.766368</td>\n",
              "      <td>-73.971518</td>\n",
              "      <td>40.765849</td>\n",
              "      <td>-73.986905</td>\n",
              "      <td>member</td>\n",
              "      <td>11.733333</td>\n",
              "      <td>0</td>\n",
              "      <td>Monday</td>\n",
              "    </tr>\n",
              "    <tr>\n",
              "      <th>101257</th>\n",
              "      <td>7592499A60EC709F</td>\n",
              "      <td>docked_bike</td>\n",
              "      <td>2021-02-15 21:27:52</td>\n",
              "      <td>2021-02-15 21:45:36</td>\n",
              "      <td>Christopher St &amp; Greenwich St</td>\n",
              "      <td>5847.01</td>\n",
              "      <td>Christopher St &amp; Greenwich St</td>\n",
              "      <td>5847.01</td>\n",
              "      <td>40.732916</td>\n",
              "      <td>-74.007114</td>\n",
              "      <td>40.732916</td>\n",
              "      <td>-74.007114</td>\n",
              "      <td>casual</td>\n",
              "      <td>17.733333</td>\n",
              "      <td>0</td>\n",
              "      <td>Monday</td>\n",
              "    </tr>\n",
              "    <tr>\n",
              "      <th>101256</th>\n",
              "      <td>B38BA5CF8B8BEC28</td>\n",
              "      <td>docked_bike</td>\n",
              "      <td>2021-02-22 12:56:54</td>\n",
              "      <td>2021-02-22 13:06:30</td>\n",
              "      <td>Christopher St &amp; Greenwich St</td>\n",
              "      <td>5847.01</td>\n",
              "      <td>Christopher St &amp; Greenwich St</td>\n",
              "      <td>5847.01</td>\n",
              "      <td>40.732915</td>\n",
              "      <td>-74.007113</td>\n",
              "      <td>40.732916</td>\n",
              "      <td>-74.007114</td>\n",
              "      <td>member</td>\n",
              "      <td>9.600000</td>\n",
              "      <td>0</td>\n",
              "      <td>Monday</td>\n",
              "    </tr>\n",
              "    <tr>\n",
              "      <th>101253</th>\n",
              "      <td>446468222B9EB0CD</td>\n",
              "      <td>docked_bike</td>\n",
              "      <td>2021-02-22 08:25:15</td>\n",
              "      <td>2021-02-22 08:27:32</td>\n",
              "      <td>Christopher St &amp; Greenwich St</td>\n",
              "      <td>5847.01</td>\n",
              "      <td>Christopher St &amp; Greenwich St</td>\n",
              "      <td>5847.01</td>\n",
              "      <td>40.732915</td>\n",
              "      <td>-74.007113</td>\n",
              "      <td>40.732916</td>\n",
              "      <td>-74.007114</td>\n",
              "      <td>member</td>\n",
              "      <td>2.283333</td>\n",
              "      <td>0</td>\n",
              "      <td>Monday</td>\n",
              "    </tr>\n",
              "    <tr>\n",
              "      <th>301084</th>\n",
              "      <td>8FC64F162FF515EE</td>\n",
              "      <td>docked_bike</td>\n",
              "      <td>2021-02-22 16:33:16</td>\n",
              "      <td>2021-02-22 16:51:46</td>\n",
              "      <td>E 44 St &amp; 2 Ave</td>\n",
              "      <td>6422.09</td>\n",
              "      <td>31 Ave &amp; Crescent St</td>\n",
              "      <td>6893.10</td>\n",
              "      <td>40.751183</td>\n",
              "      <td>-73.971387</td>\n",
              "      <td>40.765835</td>\n",
              "      <td>-73.926547</td>\n",
              "      <td>member</td>\n",
              "      <td>18.500000</td>\n",
              "      <td>0</td>\n",
              "      <td>Monday</td>\n",
              "    </tr>\n",
              "    <tr>\n",
              "      <th>101250</th>\n",
              "      <td>31EBB19058175B84</td>\n",
              "      <td>docked_bike</td>\n",
              "      <td>2021-02-08 11:22:58</td>\n",
              "      <td>2021-02-08 11:31:50</td>\n",
              "      <td>Mt Morris Park W &amp; W 120 St</td>\n",
              "      <td>7685.14</td>\n",
              "      <td>E 116 St &amp; 2 Ave</td>\n",
              "      <td>7563.06</td>\n",
              "      <td>40.804038</td>\n",
              "      <td>-73.945925</td>\n",
              "      <td>40.796879</td>\n",
              "      <td>-73.937261</td>\n",
              "      <td>member</td>\n",
              "      <td>8.866667</td>\n",
              "      <td>0</td>\n",
              "      <td>Monday</td>\n",
              "    </tr>\n",
              "    <tr>\n",
              "      <th>458290</th>\n",
              "      <td>7ED2E1BC07DBC013</td>\n",
              "      <td>docked_bike</td>\n",
              "      <td>2021-02-08 09:23:16</td>\n",
              "      <td>2021-02-08 09:45:37</td>\n",
              "      <td>E 19 St &amp; 3 Ave</td>\n",
              "      <td>5938.01</td>\n",
              "      <td>W 54 St &amp; 9 Ave</td>\n",
              "      <td>6920.03</td>\n",
              "      <td>40.736245</td>\n",
              "      <td>-73.984737</td>\n",
              "      <td>40.765849</td>\n",
              "      <td>-73.986905</td>\n",
              "      <td>member</td>\n",
              "      <td>22.350000</td>\n",
              "      <td>0</td>\n",
              "      <td>Monday</td>\n",
              "    </tr>\n",
              "  </tbody>\n",
              "</table>\n",
              "</div>\n",
              "      <button class=\"colab-df-convert\" onclick=\"convertToInteractive('df-a1bd7de5-010e-4cb9-8a6c-057db5d3617b')\"\n",
              "              title=\"Convert this dataframe to an interactive table.\"\n",
              "              style=\"display:none;\">\n",
              "        \n",
              "  <svg xmlns=\"http://www.w3.org/2000/svg\" height=\"24px\"viewBox=\"0 0 24 24\"\n",
              "       width=\"24px\">\n",
              "    <path d=\"M0 0h24v24H0V0z\" fill=\"none\"/>\n",
              "    <path d=\"M18.56 5.44l.94 2.06.94-2.06 2.06-.94-2.06-.94-.94-2.06-.94 2.06-2.06.94zm-11 1L8.5 8.5l.94-2.06 2.06-.94-2.06-.94L8.5 2.5l-.94 2.06-2.06.94zm10 10l.94 2.06.94-2.06 2.06-.94-2.06-.94-.94-2.06-.94 2.06-2.06.94z\"/><path d=\"M17.41 7.96l-1.37-1.37c-.4-.4-.92-.59-1.43-.59-.52 0-1.04.2-1.43.59L10.3 9.45l-7.72 7.72c-.78.78-.78 2.05 0 2.83L4 21.41c.39.39.9.59 1.41.59.51 0 1.02-.2 1.41-.59l7.78-7.78 2.81-2.81c.8-.78.8-2.07 0-2.86zM5.41 20L4 18.59l7.72-7.72 1.47 1.35L5.41 20z\"/>\n",
              "  </svg>\n",
              "      </button>\n",
              "      \n",
              "  <style>\n",
              "    .colab-df-container {\n",
              "      display:flex;\n",
              "      flex-wrap:wrap;\n",
              "      gap: 12px;\n",
              "    }\n",
              "\n",
              "    .colab-df-convert {\n",
              "      background-color: #E8F0FE;\n",
              "      border: none;\n",
              "      border-radius: 50%;\n",
              "      cursor: pointer;\n",
              "      display: none;\n",
              "      fill: #1967D2;\n",
              "      height: 32px;\n",
              "      padding: 0 0 0 0;\n",
              "      width: 32px;\n",
              "    }\n",
              "\n",
              "    .colab-df-convert:hover {\n",
              "      background-color: #E2EBFA;\n",
              "      box-shadow: 0px 1px 2px rgba(60, 64, 67, 0.3), 0px 1px 3px 1px rgba(60, 64, 67, 0.15);\n",
              "      fill: #174EA6;\n",
              "    }\n",
              "\n",
              "    [theme=dark] .colab-df-convert {\n",
              "      background-color: #3B4455;\n",
              "      fill: #D2E3FC;\n",
              "    }\n",
              "\n",
              "    [theme=dark] .colab-df-convert:hover {\n",
              "      background-color: #434B5C;\n",
              "      box-shadow: 0px 1px 3px 1px rgba(0, 0, 0, 0.15);\n",
              "      filter: drop-shadow(0px 1px 2px rgba(0, 0, 0, 0.3));\n",
              "      fill: #FFFFFF;\n",
              "    }\n",
              "  </style>\n",
              "\n",
              "      <script>\n",
              "        const buttonEl =\n",
              "          document.querySelector('#df-a1bd7de5-010e-4cb9-8a6c-057db5d3617b button.colab-df-convert');\n",
              "        buttonEl.style.display =\n",
              "          google.colab.kernel.accessAllowed ? 'block' : 'none';\n",
              "\n",
              "        async function convertToInteractive(key) {\n",
              "          const element = document.querySelector('#df-a1bd7de5-010e-4cb9-8a6c-057db5d3617b');\n",
              "          const dataTable =\n",
              "            await google.colab.kernel.invokeFunction('convertToInteractive',\n",
              "                                                     [key], {});\n",
              "          if (!dataTable) return;\n",
              "\n",
              "          const docLinkHtml = 'Like what you see? Visit the ' +\n",
              "            '<a target=\"_blank\" href=https://colab.research.google.com/notebooks/data_table.ipynb>data table notebook</a>'\n",
              "            + ' to learn more about interactive tables.';\n",
              "          element.innerHTML = '';\n",
              "          dataTable['output_type'] = 'display_data';\n",
              "          await google.colab.output.renderOutput(dataTable, element);\n",
              "          const docLink = document.createElement('div');\n",
              "          docLink.innerHTML = docLinkHtml;\n",
              "          element.appendChild(docLink);\n",
              "        }\n",
              "      </script>\n",
              "    </div>\n",
              "  </div>\n",
              "  "
            ]
          },
          "metadata": {},
          "execution_count": 89
        }
      ]
    }
  ]
}