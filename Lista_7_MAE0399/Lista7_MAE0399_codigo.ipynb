{
  "nbformat": 4,
  "nbformat_minor": 0,
  "metadata": {
    "colab": {
      "name": "Lista7_MAE0399_2.ipynb",
      "provenance": [],
      "collapsed_sections": []
    },
    "kernelspec": {
      "name": "python3",
      "display_name": "Python 3"
    },
    "language_info": {
      "name": "python"
    }
  },
  "cells": [
    {
      "cell_type": "markdown",
      "source": [
        "Olá professor, boa noite. Antes de começar a correção, será que o senhor poderia dar uma revisada na minha P1? Tinha falado com o senhor que como fiz em latex algumas figuras \"pularam\" e alguns itens ficaram em branco e ai o senhor descontou nota, seguem os meus dados abaixo:\n",
        "\n",
        "NOME: GUSTAVO SOARES GOMES\n",
        "NUSP:12557438"
      ],
      "metadata": {
        "id": "RSe_MADLERS1"
      }
    },
    {
      "cell_type": "code",
      "execution_count": null,
      "metadata": {
        "id": "EimKmOf1qZtH"
      },
      "outputs": [],
      "source": [
        "#importa bibliotecas necessárias\n",
        "import numpy as np\n",
        "import pandas as pd\n",
        "import matplotlib.pyplot as plt\n",
        "import scipy.stats"
      ]
    },
    {
      "cell_type": "markdown",
      "source": [
        "##Questão 1a)"
      ],
      "metadata": {
        "id": "BTvTAQhWdE0N"
      }
    },
    {
      "cell_type": "code",
      "source": [
        "#probabilidades\n",
        "p = 18/38\n",
        "q = 20/38\n",
        "#barreiras absorventes\n",
        "c = 0\n",
        "d = 50\n",
        "#lista dos x\n",
        "lista_x = [10,20,30,40]\n",
        "\n",
        "print('PROBABILIDADES EMPIRICAS:')\n",
        "for x_da_vez in lista_x:\n",
        "  #ponto inicial\n",
        "  x0 = x_da_vez\n",
        "  #armazena os estados de x\n",
        "  lista = []\n",
        "  #1000 simulacoes\n",
        "  for i in range(1000):\n",
        "    x = x_da_vez\n",
        "    while x != 50 and x != 0:\n",
        "      #soma 1 com probabilidade p\n",
        "      comparador = np.random.uniform()\n",
        "      if comparador <= p:\n",
        "        x += 1\n",
        "      else: x-= 1\n",
        "    lista.append(x)\n",
        "  print('P(T_d < T_c) = %f para x = %d'%(lista.count(50)/1000,x_da_vez))\n",
        "\n",
        "  \n",
        "\n"
      ],
      "metadata": {
        "id": "QOu2IfWGrC3A",
        "colab": {
          "base_uri": "https://localhost:8080/"
        },
        "outputId": "cba6c2ef-bb5d-43c4-a1ab-4b5ceadcf977"
      },
      "execution_count": null,
      "outputs": [
        {
          "output_type": "stream",
          "name": "stdout",
          "text": [
            "PROBABILIDADES EMPIRICAS:\n",
            "P(T_d < T_c) = 0.009000 para x = 10\n",
            "P(T_d < T_c) = 0.044000 para x = 20\n",
            "P(T_d < T_c) = 0.108000 para x = 30\n",
            "P(T_d < T_c) = 0.337000 para x = 40\n"
          ]
        }
      ]
    },
    {
      "cell_type": "code",
      "source": [
        "print('PROBABILIDADES PELA FÓRMULA:')\n",
        "for x in lista_x:\n",
        "  prob = (1-(q/p)**(x-c))/(1-(q/p)**(d-c))\n",
        "  print('P(T_d < T_c) = %s para x = %i' %(round(prob,6),x))"
      ],
      "metadata": {
        "colab": {
          "base_uri": "https://localhost:8080/"
        },
        "id": "4qjddNuEsOY2",
        "outputId": "b775b8f4-5502-49f7-8026-e0742c9fb5a4"
      },
      "execution_count": null,
      "outputs": [
        {
          "output_type": "stream",
          "name": "stdout",
          "text": [
            "PROBABILIDADES PELA FÓRMULA:\n",
            "P(T_d < T_c) = 0.009677 para x = 10\n",
            "P(T_d < T_c) = 0.03743 para x = 20\n",
            "P(T_d < T_c) = 0.117026 para x = 30\n",
            "P(T_d < T_c) = 0.345304 para x = 40\n"
          ]
        }
      ]
    },
    {
      "cell_type": "markdown",
      "source": [
        "##Questão 1b)"
      ],
      "metadata": {
        "id": "PCDEsAP0Nxux"
      }
    },
    {
      "cell_type": "code",
      "source": [
        "#probabilidades\n",
        "p = 1/2\n",
        "q = 1/2\n",
        "#barreiras absorventes\n",
        "c = 0\n",
        "d = 50\n",
        "#lista dos x\n",
        "lista_x = [10,20,30,40]\n",
        "\n",
        "#eixo y \n",
        "grafy = []\n",
        "\n",
        "print('PROBABILIDADES EMPIRICAS:')\n",
        "for x_da_vez in lista_x:\n",
        "  #ponto inicial\n",
        "  x0 = x_da_vez\n",
        "  #armazena os estados de x\n",
        "  lista = []\n",
        "  #1000 simulacoes\n",
        "  for i in range(1000):\n",
        "    x = x_da_vez\n",
        "    while x != 50 and x != 0:\n",
        "      #soma 1 com prob p\n",
        "      comparador = np.random.uniform()\n",
        "      if comparador <= p:\n",
        "        x += 1\n",
        "      else: x-= 1\n",
        "    lista.append(x)\n",
        "  print('P(T_d < T_c) = %f para x = %d'%(lista.count(50)/1000,x_da_vez))\n",
        "  grafy.append(lista.count(50)/1000)"
      ],
      "metadata": {
        "colab": {
          "base_uri": "https://localhost:8080/"
        },
        "id": "m3JHoGT0N3b0",
        "outputId": "4a0882df-dd39-455a-ab88-15b8fe8e3827"
      },
      "execution_count": null,
      "outputs": [
        {
          "output_type": "stream",
          "name": "stdout",
          "text": [
            "PROBABILIDADES EMPIRICAS:\n",
            "P(T_d < T_c) = 0.203000 para x = 10\n",
            "P(T_d < T_c) = 0.400000 para x = 20\n",
            "P(T_d < T_c) = 0.603000 para x = 30\n",
            "P(T_d < T_c) = 0.810000 para x = 40\n"
          ]
        }
      ]
    },
    {
      "cell_type": "code",
      "source": [
        "#eixo x do gráfico\n",
        "grafx = [10,20,30,40]"
      ],
      "metadata": {
        "id": "veHf94K-sfhv"
      },
      "execution_count": null,
      "outputs": []
    },
    {
      "cell_type": "code",
      "source": [
        "#estilo seaborn de gráfico\n",
        "plt.style.use('seaborn')"
      ],
      "metadata": {
        "id": "Qc2JqVSSt9Kd"
      },
      "execution_count": null,
      "outputs": []
    },
    {
      "cell_type": "code",
      "source": [
        "plt.scatter(grafx,grafy)\n",
        "plt.plot(grafx,grafy)"
      ],
      "metadata": {
        "colab": {
          "base_uri": "https://localhost:8080/",
          "height": 364
        },
        "id": "BnF_x_AruJSW",
        "outputId": "26cc2629-8a4a-420d-b688-4e34145f746b"
      },
      "execution_count": null,
      "outputs": [
        {
          "output_type": "execute_result",
          "data": {
            "text/plain": [
              "[<matplotlib.lines.Line2D at 0x7fadeda2ec10>]"
            ]
          },
          "metadata": {},
          "execution_count": 7
        },
        {
          "output_type": "display_data",
          "data": {
            "text/plain": [
              "<Figure size 576x396 with 1 Axes>"
            ],
            "image/png": "[encoded data removed]"
          },
          "metadata": {}
        }
      ]
    },
    {
      "cell_type": "code",
      "source": [
        "#regressão linear para achar a melhor reta\n",
        "import statsmodels.api as sm\n",
        "#transforma em array pra regressão \n",
        "grafx = np.array(grafx)\n",
        "grafy = np.array(grafy)\n",
        "# é necessário adicionar uma constante a matriz X\n",
        "X_sm = sm.add_constant(grafx)\n",
        "# OLS vem de Ordinary Least Squares e o método fit irá treinar o modelo\n",
        "results = sm.OLS(grafy, X_sm).fit()\n",
        "# mostrando as estatísticas do modelo\n",
        "display(results.summary())\n",
        "# mostrando as previsões para o mesmo conjunto passado\n",
        "#results.predict(X_sm)"
      ],
      "metadata": {
        "colab": {
          "base_uri": "https://localhost:8080/",
          "height": 541
        },
        "id": "LqfFlel_QW4t",
        "outputId": "7aa1f38e-651a-420d-8cbf-5252791fd4ee"
      },
      "execution_count": null,
      "outputs": [
        {
          "output_type": "stream",
          "name": "stderr",
          "text": [
            "/usr/local/lib/python3.7/dist-packages/statsmodels/tools/_testing.py:19: FutureWarning: pandas.util.testing is deprecated. Use the functions in the public API at pandas.testing instead.\n",
            "  import pandas.util.testing as tm\n",
            "/usr/local/lib/python3.7/dist-packages/statsmodels/stats/stattools.py:71: ValueWarning: omni_normtest is not valid with less than 8 observations; 4 samples were given.\n",
            "  \"samples were given.\" % int(n), ValueWarning)\n"
          ]
        },
        {
          "output_type": "display_data",
          "data": {
            "text/plain": [
              "<class 'statsmodels.iolib.summary.Summary'>\n",
              "\"\"\"\n",
              "                            OLS Regression Results                            \n",
              "==============================================================================\n",
              "Dep. Variable:                      y   R-squared:                       1.000\n",
              "Model:                            OLS   Adj. R-squared:                  1.000\n",
              "Method:                 Least Squares   F-statistic:                 1.626e+04\n",
              "Date:                Sat, 25 Jun 2022   Prob (F-statistic):           6.15e-05\n",
              "Time:                        22:55:25   Log-Likelihood:                 18.274\n",
              "No. Observations:                   4   AIC:                            -32.55\n",
              "Df Residuals:                       2   BIC:                            -33.78\n",
              "Df Model:                           1                                         \n",
              "Covariance Type:            nonrobust                                         \n",
              "==============================================================================\n",
              "                 coef    std err          t      P>|t|      [0.025      0.975]\n",
              "------------------------------------------------------------------------------\n",
              "const         -0.0020      0.004     -0.460      0.691      -0.021       0.017\n",
              "x1             0.0202      0.000    127.500      0.000       0.020       0.021\n",
              "==============================================================================\n",
              "Omnibus:                          nan   Durbin-Watson:                   2.011\n",
              "Prob(Omnibus):                    nan   Jarque-Bera (JB):                0.646\n",
              "Skew:                          -0.019   Prob(JB):                        0.724\n",
              "Kurtosis:                       1.032   Cond. No.                         67.2\n",
              "==============================================================================\n",
              "\n",
              "Warnings:\n",
              "[1] Standard Errors assume that the covariance matrix of the errors is correctly specified.\n",
              "\"\"\""
            ],
            "text/html": [
              "<table class=\"simpletable\">\n",
              "<caption>OLS Regression Results</caption>\n",
              "<tr>\n",
              "  <th>Dep. Variable:</th>            <td>y</td>        <th>  R-squared:         </th> <td>   1.000</td> \n",
              "</tr>\n",
              "<tr>\n",
              "  <th>Model:</th>                   <td>OLS</td>       <th>  Adj. R-squared:    </th> <td>   1.000</td> \n",
              "</tr>\n",
              "<tr>\n",
              "  <th>Method:</th>             <td>Least Squares</td>  <th>  F-statistic:       </th> <td>1.626e+04</td>\n",
              "</tr>\n",
              "<tr>\n",
              "  <th>Date:</th>             <td>Sat, 25 Jun 2022</td> <th>  Prob (F-statistic):</th> <td>6.15e-05</td> \n",
              "</tr>\n",
              "<tr>\n",
              "  <th>Time:</th>                 <td>22:55:25</td>     <th>  Log-Likelihood:    </th> <td>  18.274</td> \n",
              "</tr>\n",
              "<tr>\n",
              "  <th>No. Observations:</th>      <td>     4</td>      <th>  AIC:               </th> <td>  -32.55</td> \n",
              "</tr>\n",
              "<tr>\n",
              "  <th>Df Residuals:</th>          <td>     2</td>      <th>  BIC:               </th> <td>  -33.78</td> \n",
              "</tr>\n",
              "<tr>\n",
              "  <th>Df Model:</th>              <td>     1</td>      <th>                     </th>     <td> </td>    \n",
              "</tr>\n",
              "<tr>\n",
              "  <th>Covariance Type:</th>      <td>nonrobust</td>    <th>                     </th>     <td> </td>    \n",
              "</tr>\n",
              "</table>\n",
              "<table class=\"simpletable\">\n",
              "<tr>\n",
              "    <td></td>       <th>coef</th>     <th>std err</th>      <th>t</th>      <th>P>|t|</th>  <th>[0.025</th>    <th>0.975]</th>  \n",
              "</tr>\n",
              "<tr>\n",
              "  <th>const</th> <td>   -0.0020</td> <td>    0.004</td> <td>   -0.460</td> <td> 0.691</td> <td>   -0.021</td> <td>    0.017</td>\n",
              "</tr>\n",
              "<tr>\n",
              "  <th>x1</th>    <td>    0.0202</td> <td>    0.000</td> <td>  127.500</td> <td> 0.000</td> <td>    0.020</td> <td>    0.021</td>\n",
              "</tr>\n",
              "</table>\n",
              "<table class=\"simpletable\">\n",
              "<tr>\n",
              "  <th>Omnibus:</th>       <td>   nan</td> <th>  Durbin-Watson:     </th> <td>   2.011</td>\n",
              "</tr>\n",
              "<tr>\n",
              "  <th>Prob(Omnibus):</th> <td>   nan</td> <th>  Jarque-Bera (JB):  </th> <td>   0.646</td>\n",
              "</tr>\n",
              "<tr>\n",
              "  <th>Skew:</th>          <td>-0.019</td> <th>  Prob(JB):          </th> <td>   0.724</td>\n",
              "</tr>\n",
              "<tr>\n",
              "  <th>Kurtosis:</th>      <td> 1.032</td> <th>  Cond. No.          </th> <td>    67.2</td>\n",
              "</tr>\n",
              "</table><br/><br/>Warnings:<br/>[1] Standard Errors assume that the covariance matrix of the errors is correctly specified."
            ]
          },
          "metadata": {}
        }
      ]
    },
    {
      "cell_type": "code",
      "source": [
        "#grafico anterior\n",
        "plt.scatter(grafx,grafy)\n",
        "plt.plot(grafx,grafy)\n",
        "#plota reta de regressão\n",
        "x = np.arange(10,40,0.005)\n",
        "plt.plot(x,0.0202*x -0.00200)"
      ],
      "metadata": {
        "colab": {
          "base_uri": "https://localhost:8080/",
          "height": 364
        },
        "id": "2J9wdft8SSvw",
        "outputId": "81e2ec95-dd8f-4c93-f329-bc8f900f728a"
      },
      "execution_count": null,
      "outputs": [
        {
          "output_type": "execute_result",
          "data": {
            "text/plain": [
              "[<matplotlib.lines.Line2D at 0x7faddd6c0090>]"
            ]
          },
          "metadata": {},
          "execution_count": 18
        },
        {
          "output_type": "display_data",
          "data": {
            "text/plain": [
              "<Figure size 576x396 with 1 Axes>"
            ],
            "image/png": "[encoded data removed]"
          },
          "metadata": {}
        }
      ]
    },
    {
      "cell_type": "markdown",
      "source": [
        "A reta que melhor ajusta os dados é $$f(x) = 0.0202x - 0.002$$"
      ],
      "metadata": {
        "id": "qwI7sZp-vA_y"
      }
    },
    {
      "cell_type": "markdown",
      "source": [
        "##Questão 2a)"
      ],
      "metadata": {
        "id": "9GFN3A5hJdvU"
      }
    },
    {
      "cell_type": "code",
      "source": [
        "#dataframe pros quantis\n",
        "quantis = pd.DataFrame({'n':[10*i for i in range(1,11)]})\n",
        "quantis['5p'] = [10*i for i in range(1,11)]\n",
        "quantis['95p'] = [10*i for i in range(1,11)]\n",
        "\n",
        "#percorre os n do enunciado\n",
        "for n in range(10,110,10):\n",
        "  #armazena os ultimos s\n",
        "  lista_s = []\n",
        "  chegada = n\n",
        "\n",
        "  #percorre mil simulacoes\n",
        "  for i in range(1000):\n",
        "    t = 0\n",
        "    n = 0\n",
        "    s = 0\n",
        "    N_t = 0\n",
        "\n",
        "    while n < chegada:\n",
        "      #se não ultrapassar t n vira o N(t)\n",
        "      if s <= t: N_t = n\n",
        "      #incrementos\n",
        "      n +=1\n",
        "      t +=1\n",
        "      s += np.random.exponential(1)\n",
        "    #appenda ultimo s\n",
        "    lista_s.append(s)\n",
        "\n",
        "  a = pd.Series(lista_s)\n",
        "  #apenda os quantis pedidos\n",
        "  quantis.loc[n/10-1,'5p'] = a.quantile(0.05)\n",
        "  quantis.loc[n/10-1,'95p'] = a.quantile(0.95)\n",
        "\n"
      ],
      "metadata": {
        "id": "26nFuJIwwQGk"
      },
      "execution_count": null,
      "outputs": []
    },
    {
      "cell_type": "code",
      "source": [
        "#quantis empiricos\n",
        "quantis"
      ],
      "metadata": {
        "colab": {
          "base_uri": "https://localhost:8080/",
          "height": 363
        },
        "id": "OdKZBEZqN_Qa",
        "outputId": "cf9d1cc8-e56c-4c58-d257-f50930c05595"
      },
      "execution_count": null,
      "outputs": [
        {
          "output_type": "execute_result",
          "data": {
            "text/plain": [
              "     n         5p         95p\n",
              "0   10   5.465856   15.400850\n",
              "1   20  12.978453   28.079774\n",
              "2   30  21.841952   39.431617\n",
              "3   40  29.490156   50.238599\n",
              "4   50  38.754766   61.655704\n",
              "5   60  47.935815   73.538848\n",
              "6   70  57.262881   84.321642\n",
              "7   80  65.152217   95.579392\n",
              "8   90  75.618493  106.167975\n",
              "9  100  84.887194  117.870853"
            ],
            "text/html": [
              "\n",
              "  <div id=\"df-66d6452f-4838-4e6a-af82-1410ff6c1dbd\">\n",
              "    <div class=\"colab-df-container\">\n",
              "      <div>\n",
              "<style scoped>\n",
              "    .dataframe tbody tr th:only-of-type {\n",
              "        vertical-align: middle;\n",
              "    }\n",
              "\n",
              "    .dataframe tbody tr th {\n",
              "        vertical-align: top;\n",
              "    }\n",
              "\n",
              "    .dataframe thead th {\n",
              "        text-align: right;\n",
              "    }\n",
              "</style>\n",
              "<table border=\"1\" class=\"dataframe\">\n",
              "  <thead>\n",
              "    <tr style=\"text-align: right;\">\n",
              "      <th></th>\n",
              "      <th>n</th>\n",
              "      <th>5p</th>\n",
              "      <th>95p</th>\n",
              "    </tr>\n",
              "  </thead>\n",
              "  <tbody>\n",
              "    <tr>\n",
              "      <th>0</th>\n",
              "      <td>10</td>\n",
              "      <td>5.465856</td>\n",
              "      <td>15.400850</td>\n",
              "    </tr>\n",
              "    <tr>\n",
              "      <th>1</th>\n",
              "      <td>20</td>\n",
              "      <td>12.978453</td>\n",
              "      <td>28.079774</td>\n",
              "    </tr>\n",
              "    <tr>\n",
              "      <th>2</th>\n",
              "      <td>30</td>\n",
              "      <td>21.841952</td>\n",
              "      <td>39.431617</td>\n",
              "    </tr>\n",
              "    <tr>\n",
              "      <th>3</th>\n",
              "      <td>40</td>\n",
              "      <td>29.490156</td>\n",
              "      <td>50.238599</td>\n",
              "    </tr>\n",
              "    <tr>\n",
              "      <th>4</th>\n",
              "      <td>50</td>\n",
              "      <td>38.754766</td>\n",
              "      <td>61.655704</td>\n",
              "    </tr>\n",
              "    <tr>\n",
              "      <th>5</th>\n",
              "      <td>60</td>\n",
              "      <td>47.935815</td>\n",
              "      <td>73.538848</td>\n",
              "    </tr>\n",
              "    <tr>\n",
              "      <th>6</th>\n",
              "      <td>70</td>\n",
              "      <td>57.262881</td>\n",
              "      <td>84.321642</td>\n",
              "    </tr>\n",
              "    <tr>\n",
              "      <th>7</th>\n",
              "      <td>80</td>\n",
              "      <td>65.152217</td>\n",
              "      <td>95.579392</td>\n",
              "    </tr>\n",
              "    <tr>\n",
              "      <th>8</th>\n",
              "      <td>90</td>\n",
              "      <td>75.618493</td>\n",
              "      <td>106.167975</td>\n",
              "    </tr>\n",
              "    <tr>\n",
              "      <th>9</th>\n",
              "      <td>100</td>\n",
              "      <td>84.887194</td>\n",
              "      <td>117.870853</td>\n",
              "    </tr>\n",
              "  </tbody>\n",
              "</table>\n",
              "</div>\n",
              "      <button class=\"colab-df-convert\" onclick=\"convertToInteractive('df-66d6452f-4838-4e6a-af82-1410ff6c1dbd')\"\n",
              "              title=\"Convert this dataframe to an interactive table.\"\n",
              "              style=\"display:none;\">\n",
              "        \n",
              "  <svg xmlns=\"http://www.w3.org/2000/svg\" height=\"24px\"viewBox=\"0 0 24 24\"\n",
              "       width=\"24px\">\n",
              "    <path d=\"M0 0h24v24H0V0z\" fill=\"none\"/>\n",
              "    <path d=\"M18.56 5.44l.94 2.06.94-2.06 2.06-.94-2.06-.94-.94-2.06-.94 2.06-2.06.94zm-11 1L8.5 8.5l.94-2.06 2.06-.94-2.06-.94L8.5 2.5l-.94 2.06-2.06.94zm10 10l.94 2.06.94-2.06 2.06-.94-2.06-.94-.94-2.06-.94 2.06-2.06.94z\"/><path d=\"M17.41 7.96l-1.37-1.37c-.4-.4-.92-.59-1.43-.59-.52 0-1.04.2-1.43.59L10.3 9.45l-7.72 7.72c-.78.78-.78 2.05 0 2.83L4 21.41c.39.39.9.59 1.41.59.51 0 1.02-.2 1.41-.59l7.78-7.78 2.81-2.81c.8-.78.8-2.07 0-2.86zM5.41 20L4 18.59l7.72-7.72 1.47 1.35L5.41 20z\"/>\n",
              "  </svg>\n",
              "      </button>\n",
              "      \n",
              "  <style>\n",
              "    .colab-df-container {\n",
              "      display:flex;\n",
              "      flex-wrap:wrap;\n",
              "      gap: 12px;\n",
              "    }\n",
              "\n",
              "    .colab-df-convert {\n",
              "      background-color: #E8F0FE;\n",
              "      border: none;\n",
              "      border-radius: 50%;\n",
              "      cursor: pointer;\n",
              "      display: none;\n",
              "      fill: #1967D2;\n",
              "      height: 32px;\n",
              "      padding: 0 0 0 0;\n",
              "      width: 32px;\n",
              "    }\n",
              "\n",
              "    .colab-df-convert:hover {\n",
              "      background-color: #E2EBFA;\n",
              "      box-shadow: 0px 1px 2px rgba(60, 64, 67, 0.3), 0px 1px 3px 1px rgba(60, 64, 67, 0.15);\n",
              "      fill: #174EA6;\n",
              "    }\n",
              "\n",
              "    [theme=dark] .colab-df-convert {\n",
              "      background-color: #3B4455;\n",
              "      fill: #D2E3FC;\n",
              "    }\n",
              "\n",
              "    [theme=dark] .colab-df-convert:hover {\n",
              "      background-color: #434B5C;\n",
              "      box-shadow: 0px 1px 3px 1px rgba(0, 0, 0, 0.15);\n",
              "      filter: drop-shadow(0px 1px 2px rgba(0, 0, 0, 0.3));\n",
              "      fill: #FFFFFF;\n",
              "    }\n",
              "  </style>\n",
              "\n",
              "      <script>\n",
              "        const buttonEl =\n",
              "          document.querySelector('#df-66d6452f-4838-4e6a-af82-1410ff6c1dbd button.colab-df-convert');\n",
              "        buttonEl.style.display =\n",
              "          google.colab.kernel.accessAllowed ? 'block' : 'none';\n",
              "\n",
              "        async function convertToInteractive(key) {\n",
              "          const element = document.querySelector('#df-66d6452f-4838-4e6a-af82-1410ff6c1dbd');\n",
              "          const dataTable =\n",
              "            await google.colab.kernel.invokeFunction('convertToInteractive',\n",
              "                                                     [key], {});\n",
              "          if (!dataTable) return;\n",
              "\n",
              "          const docLinkHtml = 'Like what you see? Visit the ' +\n",
              "            '<a target=\"_blank\" href=https://colab.research.google.com/notebooks/data_table.ipynb>data table notebook</a>'\n",
              "            + ' to learn more about interactive tables.';\n",
              "          element.innerHTML = '';\n",
              "          dataTable['output_type'] = 'display_data';\n",
              "          await google.colab.output.renderOutput(dataTable, element);\n",
              "          const docLink = document.createElement('div');\n",
              "          docLink.innerHTML = docLinkHtml;\n",
              "          element.appendChild(docLink);\n",
              "        }\n",
              "      </script>\n",
              "    </div>\n",
              "  </div>\n",
              "  "
            ]
          },
          "metadata": {},
          "execution_count": 11
        }
      ]
    },
    {
      "cell_type": "code",
      "source": [
        "#colunas pros quantis calculados na normal\n",
        "quantis['5pnorm'] = [n for n in range(10,110,10)]\n",
        "quantis['95pnorm'] = [n for n in range(10,110,10)]\n",
        "#appenda valores\n",
        "for n in range(10,110,10):\n",
        "  quantis.loc[n/10 -1,'5pnorm'] =  scipy.stats.norm.ppf(0.05,n,(n**0.5))\n",
        "  quantis.loc[n/10 -1,'95pnorm'] = scipy.stats.norm.ppf(0.95,n,(n**0.5))"
      ],
      "metadata": {
        "id": "EWnelwjuOLaH"
      },
      "execution_count": null,
      "outputs": []
    },
    {
      "cell_type": "code",
      "source": [
        "#comparação quantis empiricos com os calculados na normal\n",
        "quantis"
      ],
      "metadata": {
        "colab": {
          "base_uri": "https://localhost:8080/",
          "height": 363
        },
        "id": "rInRx6UuP6Qr",
        "outputId": "f7ea77b8-251a-4270-f736-6f5a3637a1b1"
      },
      "execution_count": null,
      "outputs": [
        {
          "output_type": "execute_result",
          "data": {
            "text/plain": [
              "     n         5p         95p     5pnorm     95pnorm\n",
              "0   10   5.465856   15.400850   4.798516   15.201484\n",
              "1   20  12.978453   28.079774  12.643991   27.356009\n",
              "2   30  21.841952   39.431617  20.990766   39.009234\n",
              "3   40  29.490156   50.238599  29.597032   50.402968\n",
              "4   50  38.754766   61.655704  38.369128   61.630872\n",
              "5   60  47.935815   73.538848  47.259019   72.740981\n",
              "6   70  57.262881   84.321642  56.238167   83.761833\n",
              "7   80  65.152217   95.579392  65.287982   94.712018\n",
              "8   90  75.618493  106.167975  74.395548  105.604452\n",
              "9  100  84.887194  117.870853  83.551464  116.448536"
            ],
            "text/html": [
              "\n",
              "  <div id=\"df-7b0db98c-5457-4251-9f13-f0a720e63392\">\n",
              "    <div class=\"colab-df-container\">\n",
              "      <div>\n",
              "<style scoped>\n",
              "    .dataframe tbody tr th:only-of-type {\n",
              "        vertical-align: middle;\n",
              "    }\n",
              "\n",
              "    .dataframe tbody tr th {\n",
              "        vertical-align: top;\n",
              "    }\n",
              "\n",
              "    .dataframe thead th {\n",
              "        text-align: right;\n",
              "    }\n",
              "</style>\n",
              "<table border=\"1\" class=\"dataframe\">\n",
              "  <thead>\n",
              "    <tr style=\"text-align: right;\">\n",
              "      <th></th>\n",
              "      <th>n</th>\n",
              "      <th>5p</th>\n",
              "      <th>95p</th>\n",
              "      <th>5pnorm</th>\n",
              "      <th>95pnorm</th>\n",
              "    </tr>\n",
              "  </thead>\n",
              "  <tbody>\n",
              "    <tr>\n",
              "      <th>0</th>\n",
              "      <td>10</td>\n",
              "      <td>5.465856</td>\n",
              "      <td>15.400850</td>\n",
              "      <td>4.798516</td>\n",
              "      <td>15.201484</td>\n",
              "    </tr>\n",
              "    <tr>\n",
              "      <th>1</th>\n",
              "      <td>20</td>\n",
              "      <td>12.978453</td>\n",
              "      <td>28.079774</td>\n",
              "      <td>12.643991</td>\n",
              "      <td>27.356009</td>\n",
              "    </tr>\n",
              "    <tr>\n",
              "      <th>2</th>\n",
              "      <td>30</td>\n",
              "      <td>21.841952</td>\n",
              "      <td>39.431617</td>\n",
              "      <td>20.990766</td>\n",
              "      <td>39.009234</td>\n",
              "    </tr>\n",
              "    <tr>\n",
              "      <th>3</th>\n",
              "      <td>40</td>\n",
              "      <td>29.490156</td>\n",
              "      <td>50.238599</td>\n",
              "      <td>29.597032</td>\n",
              "      <td>50.402968</td>\n",
              "    </tr>\n",
              "    <tr>\n",
              "      <th>4</th>\n",
              "      <td>50</td>\n",
              "      <td>38.754766</td>\n",
              "      <td>61.655704</td>\n",
              "      <td>38.369128</td>\n",
              "      <td>61.630872</td>\n",
              "    </tr>\n",
              "    <tr>\n",
              "      <th>5</th>\n",
              "      <td>60</td>\n",
              "      <td>47.935815</td>\n",
              "      <td>73.538848</td>\n",
              "      <td>47.259019</td>\n",
              "      <td>72.740981</td>\n",
              "    </tr>\n",
              "    <tr>\n",
              "      <th>6</th>\n",
              "      <td>70</td>\n",
              "      <td>57.262881</td>\n",
              "      <td>84.321642</td>\n",
              "      <td>56.238167</td>\n",
              "      <td>83.761833</td>\n",
              "    </tr>\n",
              "    <tr>\n",
              "      <th>7</th>\n",
              "      <td>80</td>\n",
              "      <td>65.152217</td>\n",
              "      <td>95.579392</td>\n",
              "      <td>65.287982</td>\n",
              "      <td>94.712018</td>\n",
              "    </tr>\n",
              "    <tr>\n",
              "      <th>8</th>\n",
              "      <td>90</td>\n",
              "      <td>75.618493</td>\n",
              "      <td>106.167975</td>\n",
              "      <td>74.395548</td>\n",
              "      <td>105.604452</td>\n",
              "    </tr>\n",
              "    <tr>\n",
              "      <th>9</th>\n",
              "      <td>100</td>\n",
              "      <td>84.887194</td>\n",
              "      <td>117.870853</td>\n",
              "      <td>83.551464</td>\n",
              "      <td>116.448536</td>\n",
              "    </tr>\n",
              "  </tbody>\n",
              "</table>\n",
              "</div>\n",
              "      <button class=\"colab-df-convert\" onclick=\"convertToInteractive('df-7b0db98c-5457-4251-9f13-f0a720e63392')\"\n",
              "              title=\"Convert this dataframe to an interactive table.\"\n",
              "              style=\"display:none;\">\n",
              "        \n",
              "  <svg xmlns=\"http://www.w3.org/2000/svg\" height=\"24px\"viewBox=\"0 0 24 24\"\n",
              "       width=\"24px\">\n",
              "    <path d=\"M0 0h24v24H0V0z\" fill=\"none\"/>\n",
              "    <path d=\"M18.56 5.44l.94 2.06.94-2.06 2.06-.94-2.06-.94-.94-2.06-.94 2.06-2.06.94zm-11 1L8.5 8.5l.94-2.06 2.06-.94-2.06-.94L8.5 2.5l-.94 2.06-2.06.94zm10 10l.94 2.06.94-2.06 2.06-.94-2.06-.94-.94-2.06-.94 2.06-2.06.94z\"/><path d=\"M17.41 7.96l-1.37-1.37c-.4-.4-.92-.59-1.43-.59-.52 0-1.04.2-1.43.59L10.3 9.45l-7.72 7.72c-.78.78-.78 2.05 0 2.83L4 21.41c.39.39.9.59 1.41.59.51 0 1.02-.2 1.41-.59l7.78-7.78 2.81-2.81c.8-.78.8-2.07 0-2.86zM5.41 20L4 18.59l7.72-7.72 1.47 1.35L5.41 20z\"/>\n",
              "  </svg>\n",
              "      </button>\n",
              "      \n",
              "  <style>\n",
              "    .colab-df-container {\n",
              "      display:flex;\n",
              "      flex-wrap:wrap;\n",
              "      gap: 12px;\n",
              "    }\n",
              "\n",
              "    .colab-df-convert {\n",
              "      background-color: #E8F0FE;\n",
              "      border: none;\n",
              "      border-radius: 50%;\n",
              "      cursor: pointer;\n",
              "      display: none;\n",
              "      fill: #1967D2;\n",
              "      height: 32px;\n",
              "      padding: 0 0 0 0;\n",
              "      width: 32px;\n",
              "    }\n",
              "\n",
              "    .colab-df-convert:hover {\n",
              "      background-color: #E2EBFA;\n",
              "      box-shadow: 0px 1px 2px rgba(60, 64, 67, 0.3), 0px 1px 3px 1px rgba(60, 64, 67, 0.15);\n",
              "      fill: #174EA6;\n",
              "    }\n",
              "\n",
              "    [theme=dark] .colab-df-convert {\n",
              "      background-color: #3B4455;\n",
              "      fill: #D2E3FC;\n",
              "    }\n",
              "\n",
              "    [theme=dark] .colab-df-convert:hover {\n",
              "      background-color: #434B5C;\n",
              "      box-shadow: 0px 1px 3px 1px rgba(0, 0, 0, 0.15);\n",
              "      filter: drop-shadow(0px 1px 2px rgba(0, 0, 0, 0.3));\n",
              "      fill: #FFFFFF;\n",
              "    }\n",
              "  </style>\n",
              "\n",
              "      <script>\n",
              "        const buttonEl =\n",
              "          document.querySelector('#df-7b0db98c-5457-4251-9f13-f0a720e63392 button.colab-df-convert');\n",
              "        buttonEl.style.display =\n",
              "          google.colab.kernel.accessAllowed ? 'block' : 'none';\n",
              "\n",
              "        async function convertToInteractive(key) {\n",
              "          const element = document.querySelector('#df-7b0db98c-5457-4251-9f13-f0a720e63392');\n",
              "          const dataTable =\n",
              "            await google.colab.kernel.invokeFunction('convertToInteractive',\n",
              "                                                     [key], {});\n",
              "          if (!dataTable) return;\n",
              "\n",
              "          const docLinkHtml = 'Like what you see? Visit the ' +\n",
              "            '<a target=\"_blank\" href=https://colab.research.google.com/notebooks/data_table.ipynb>data table notebook</a>'\n",
              "            + ' to learn more about interactive tables.';\n",
              "          element.innerHTML = '';\n",
              "          dataTable['output_type'] = 'display_data';\n",
              "          await google.colab.output.renderOutput(dataTable, element);\n",
              "          const docLink = document.createElement('div');\n",
              "          docLink.innerHTML = docLinkHtml;\n",
              "          element.appendChild(docLink);\n",
              "        }\n",
              "      </script>\n",
              "    </div>\n",
              "  </div>\n",
              "  "
            ]
          },
          "metadata": {},
          "execution_count": 13
        }
      ]
    },
    {
      "cell_type": "markdown",
      "source": [
        "##Questão 2b)"
      ],
      "metadata": {
        "id": "5QN28XMDQdNW"
      }
    },
    {
      "cell_type": "code",
      "source": [
        "#tempo final\n",
        "T = 100\n",
        "#lista pros trajetos de s pra cada simulação\n",
        "S = [[] for i in range(5)]\n",
        "N = [[] for i in range(5)]\n",
        "\n",
        "#5simulações\n",
        "for i in range(5):\n",
        "\n",
        "  #lista para s,n,t\n",
        "  lista_s = [0]\n",
        "  lista_n = [0]\n",
        "  lista_t = [0]\n",
        "  lista_N_t = [0]\n",
        "  n = 0\n",
        "  s = 0\n",
        "  t = 0\n",
        "\n",
        "  #enquanto não chega no 100\n",
        "  while n < T:\n",
        "\n",
        "    #se a soma parcial tiver abaixo de T n vira N_t\n",
        "    if s <= T: N_t = n\n",
        "\n",
        "    #incrementos\n",
        "    s += np.random.exponential(1)\n",
        "    n += 1\n",
        "    t += 1\n",
        "    #appenda nas listas \n",
        "    lista_t.append(t)\n",
        "    lista_n.append(n)\n",
        "    lista_s.append(s)\n",
        "    lista_N_t.append(N_t)\n",
        "  #guarda lista dos s em S\n",
        "  S[i] = lista_s\n",
        "  N[i] = lista_N_t\n",
        " \n",
        "\n"
      ],
      "metadata": {
        "id": "yNRJznkam6su"
      },
      "execution_count": null,
      "outputs": []
    },
    {
      "cell_type": "code",
      "source": [
        "plt.style.use('seaborn')"
      ],
      "metadata": {
        "id": "lbrYGOPFrvch"
      },
      "execution_count": null,
      "outputs": []
    },
    {
      "cell_type": "code",
      "source": [
        "#função E(N(t)) +- Var(N(t))**0.5\n",
        "lista_tssup = []\n",
        "lista_tsinf = []\n",
        "for t in range(0,101):\n",
        "  lista_tssup.append(t + 3*t**0.5)\n",
        "  lista_tsinf.append(t - 3*t**0.5)"
      ],
      "metadata": {
        "id": "h7iEkRidqRDH"
      },
      "execution_count": null,
      "outputs": []
    },
    {
      "cell_type": "code",
      "source": [
        "#plota tudo num mesmo gráfico\n",
        "colors = ['red','blue','yellow','orange','black']\n",
        "\n",
        "for i in range(5):\n",
        "  plt.plot(lista_t,S[i],color = colors[i], label = 'simulação %s'%(i+1))\n",
        "\n",
        "plt.plot(lista_t,lista_tssup,label = 'E(N(t)) - 3(Var(N(t))**0.5')\n",
        "plt.plot(lista_t,lista_tsinf,label = 'E(N(t)) + 3(Var(N(t))**0.5')\n",
        "plt.legend()\n",
        "plt.show()"
      ],
      "metadata": {
        "id": "V2qwnFwMpU-o",
        "colab": {
          "base_uri": "https://localhost:8080/",
          "height": 347
        },
        "outputId": "6ec61b09-4c23-46a0-8c3e-804fe397efc9"
      },
      "execution_count": null,
      "outputs": [
        {
          "output_type": "display_data",
          "data": {
            "text/plain": [
              "<Figure size 576x396 with 1 Axes>"
            ],
            "image/png": "[encoded data removed]"
          },
          "metadata": {}
        }
      ]
    },
    {
      "cell_type": "code",
      "source": [
        ""
      ],
      "metadata": {
        "id": "T_i2J__hFwFk"
      },
      "execution_count": null,
      "outputs": []
    }
  ]
}